{
 "cells": [
  {
   "cell_type": "code",
   "execution_count": null,
   "metadata": {},
   "outputs": [],
   "source": [
    "# Databricks notebook source\n",
    "import json\n",
    "\n",
    "import mlflow\n",
    "\n",
    "mlflow.set_tracking_uri(\"databricks\")\n",
    "\n",
    "mlflow.set_experiment(experiment_name=\"/Shared/hotel-reservations-cremerf\")\n",
    "mlflow.set_experiment_tags({\"repository_name\": \"hotel-reservations-cremerf\"})"
   ]
  },
  {
   "cell_type": "code",
   "execution_count": null,
   "metadata": {},
   "outputs": [],
   "source": [
    "# COMMAND ----------\n",
    "experiments = mlflow.search_experiments(\n",
    "    filter_string=\"tags.repository_name='house-price'\"\n",
    ")\n",
    "print(experiments)"
   ]
  },
  {
   "cell_type": "code",
   "execution_count": null,
   "metadata": {},
   "outputs": [],
   "source": [
    "# COMMAND ----------\n",
    "with open(\"mlflow_experiment.json\", \"w\") as json_file:\n",
    "    json.dump(experiments[0].__dict__, json_file, indent=4)"
   ]
  },
  {
   "cell_type": "code",
   "execution_count": null,
   "metadata": {},
   "outputs": [],
   "source": [
    "# COMMAND ----------\n",
    "with mlflow.start_run(\n",
    "    run_name=\"demo-run\",\n",
    "    tags={\"git_sha\": \"614e1f16ab92f9e1d49da01678463debec1c635f\",\n",
    "          \"branch\": \"week2\"},\n",
    "    description=\"demo run\",\n",
    ") as run:\n",
    "    mlflow.log_params({\"type\": \"demo\"})\n",
    "    mlflow.log_metrics({\"metric1\": 1.0, \"metric2\": 2.0})"
   ]
  },
  {
   "cell_type": "code",
   "execution_count": null,
   "metadata": {},
   "outputs": [],
   "source": [
    "# COMMAND ----------\n",
    "run_id = mlflow.search_runs(\n",
    "    experiment_names=[\"/Shared/hotel-reservations-cremerf\"],\n",
    "    filter_string=\"tags.git_sha='614e1f16ab92f9e1d49da01678463debec1c635f'\",\n",
    ").run_id[0]\n",
    "run_info = mlflow.get_run(run_id=f\"{run_id}\").to_dictionary()\n",
    "print(run_info)"
   ]
  },
  {
   "cell_type": "code",
   "execution_count": null,
   "metadata": {},
   "outputs": [],
   "source": [
    "# COMMAND ----------\n",
    "with open(\"run_info.json\", \"w\") as json_file:\n",
    "    json.dump(run_info, json_file, indent=4)"
   ]
  },
  {
   "cell_type": "code",
   "execution_count": null,
   "metadata": {},
   "outputs": [],
   "source": [
    "# COMMAND ----------\n",
    "print(run_info[\"data\"][\"metrics\"])"
   ]
  },
  {
   "cell_type": "code",
   "execution_count": null,
   "metadata": {},
   "outputs": [],
   "source": [
    "# COMMAND ----------\n",
    "print(run_info[\"data\"][\"params\"])"
   ]
  }
 ],
 "metadata": {
  "language_info": {
   "name": "python"
  }
 },
 "nbformat": 4,
 "nbformat_minor": 2
}
