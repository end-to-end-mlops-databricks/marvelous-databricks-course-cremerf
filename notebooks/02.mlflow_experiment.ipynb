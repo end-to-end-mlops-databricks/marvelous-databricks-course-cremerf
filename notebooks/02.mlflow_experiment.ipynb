{
 "cells": [
  {
   "cell_type": "code",
   "execution_count": 0,
   "metadata": {
    "application/vnd.databricks.v1+cell": {
     "cellMetadata": {
      "byteLimit": 2048000,
      "rowLimit": 10000
     },
     "inputWidgets": {},
     "nuid": "699e44d3-ef6f-437d-8206-b5fd6fd7da3c",
     "showTitle": false,
     "tableResultSettingsMap": {},
     "title": ""
    }
   },
   "outputs": [],
   "source": [
    "# Databricks notebook source\n",
    "import json\n",
    "\n",
    "import mlflow\n",
    "\n",
    "mlflow.set_tracking_uri(\"databricks\")\n",
    "\n",
    "mlflow.set_experiment(experiment_name=\"/Shared/hotel-reservations-cremerf\")\n",
    "mlflow.set_experiment_tags({\"repository_name\": \"hotel-reservations-cremerf\"})"
   ]
  },
  {
   "cell_type": "code",
   "execution_count": 0,
   "metadata": {
    "application/vnd.databricks.v1+cell": {
     "cellMetadata": {
      "byteLimit": 2048000,
      "rowLimit": 10000
     },
     "inputWidgets": {},
     "nuid": "f87a1500-63d2-4bec-8840-d6051660ef11",
     "showTitle": false,
     "tableResultSettingsMap": {},
     "title": ""
    }
   },
   "outputs": [],
   "source": [
    "# COMMAND ----------\n",
    "experiments = mlflow.search_experiments(\n",
    "    filter_string=\"tags.repository_name='hotel-reservations-cremerf'\"\n",
    ")\n",
    "print(experiments)"
   ]
  },
  {
   "cell_type": "code",
   "execution_count": 0,
   "metadata": {
    "application/vnd.databricks.v1+cell": {
     "cellMetadata": {
      "byteLimit": 2048000,
      "rowLimit": 10000
     },
     "inputWidgets": {},
     "nuid": "c97025dd-30dc-46f5-8171-78f77b018d4e",
     "showTitle": false,
     "tableResultSettingsMap": {},
     "title": ""
    }
   },
   "outputs": [],
   "source": [
    "# COMMAND ----------\n",
    "with open(\"mlflow_experiment.json\", \"w\") as json_file:\n",
    "    json.dump(experiments[0].__dict__, json_file, indent=4)"
   ]
  },
  {
   "cell_type": "code",
   "execution_count": 0,
   "metadata": {
    "application/vnd.databricks.v1+cell": {
     "cellMetadata": {
      "byteLimit": 2048000,
      "rowLimit": 10000
     },
     "inputWidgets": {},
     "nuid": "b13666bb-b738-4304-80d7-312a69c6532a",
     "showTitle": false,
     "tableResultSettingsMap": {},
     "title": ""
    }
   },
   "outputs": [],
   "source": [
    "# COMMAND ----------\n",
    "with mlflow.start_run(\n",
    "    run_name=\"demo-run\",\n",
    "    tags={\"git_sha\": \"050a3ddcb577c73d31f5f81739e8427980cb1d5e\",\n",
    "          \"branch\": \"week2\"},\n",
    "    description=\"demo run\",\n",
    ") as run:\n",
    "    mlflow.log_params({\"type\": \"demo\"})\n",
    "    mlflow.log_metrics({\"metric1\": 1.0, \"metric2\": 2.0})"
   ]
  },
  {
   "cell_type": "code",
   "execution_count": 0,
   "metadata": {
    "application/vnd.databricks.v1+cell": {
     "cellMetadata": {
      "byteLimit": 2048000,
      "rowLimit": 10000
     },
     "inputWidgets": {},
     "nuid": "572d108b-de90-41dd-89cb-f9e3b3b43ba3",
     "showTitle": false,
     "tableResultSettingsMap": {},
     "title": ""
    }
   },
   "outputs": [],
   "source": [
    "# COMMAND ----------\n",
    "run_id = mlflow.search_runs(\n",
    "    experiment_names=[\"/Shared/hotel-reservations-cremerf\"],\n",
    "    filter_string=\"tags.git_sha='050a3ddcb577c73d31f5f81739e8427980cb1d5e'\",\n",
    ").run_id[0]\n",
    "run_info = mlflow.get_run(run_id=f\"{run_id}\").to_dictionary()\n",
    "print(run_info)"
   ]
  },
  {
   "cell_type": "code",
   "execution_count": 0,
   "metadata": {
    "application/vnd.databricks.v1+cell": {
     "cellMetadata": {
      "byteLimit": 2048000,
      "rowLimit": 10000
     },
     "inputWidgets": {},
     "nuid": "5a4e0c33-d984-4a49-a922-a0c8a2aeaaa0",
     "showTitle": false,
     "tableResultSettingsMap": {},
     "title": ""
    }
   },
   "outputs": [],
   "source": [
    "# COMMAND ----------\n",
    "with open(\"run_info.json\", \"w\") as json_file:\n",
    "    json.dump(run_info, json_file, indent=4)"
   ]
  },
  {
   "cell_type": "code",
   "execution_count": 0,
   "metadata": {
    "application/vnd.databricks.v1+cell": {
     "cellMetadata": {
      "byteLimit": 2048000,
      "rowLimit": 10000
     },
     "inputWidgets": {},
     "nuid": "54e65f06-1c32-4e67-b57f-c07875704819",
     "showTitle": false,
     "tableResultSettingsMap": {},
     "title": ""
    }
   },
   "outputs": [],
   "source": [
    "# COMMAND ----------\n",
    "print(run_info[\"data\"][\"metrics\"])"
   ]
  },
  {
   "cell_type": "code",
   "execution_count": 0,
   "metadata": {
    "application/vnd.databricks.v1+cell": {
     "cellMetadata": {
      "byteLimit": 2048000,
      "rowLimit": 10000
     },
     "inputWidgets": {},
     "nuid": "e796ae2d-6a20-4246-b63b-0357e655f7de",
     "showTitle": false,
     "tableResultSettingsMap": {},
     "title": ""
    }
   },
   "outputs": [],
   "source": [
    "# COMMAND ----------\n",
    "print(run_info[\"data\"][\"params\"])"
   ]
  }
 ],
 "metadata": {
  "application/vnd.databricks.v1+notebook": {
   "dashboards": [],
   "environmentMetadata": null,
   "language": "python",
   "notebookMetadata": {
    "pythonIndentUnit": 4
   },
   "notebookName": "02.mlflow_experiment",
   "widgets": {}
  },
  "language_info": {
   "name": "python"
  }
 },
 "nbformat": 4,
 "nbformat_minor": 0
}
